{
 "cells": [
  {
   "cell_type": "markdown",
   "metadata": {},
   "source": [
    "# Summary - SQL Query Examples\n",
    "Each example shows the original tables, goal, then the breaks down the solution in parts. \n",
    "> ### [1. Example:](#EX1) CTE, MAX()/MIN() functions, INNER JOIN, SELF JOIN, UNION Subquery\n",
    "> ### [2. Example:](#EX2) Subquery, Aggregates, RANK() Window Function, Self Join\n",
    "> ### [3. Example:](#EX3) Subquery, CTE, LAG() Window Function, CASE, ROUND(CAST( )), IS NOT NULL"
   ]
  },
  {
   "cell_type": "code",
   "execution_count": null,
   "metadata": {},
   "outputs": [],
   "source": []
  }
 ],
 "metadata": {
  "kernelspec": {
   "display_name": "Python 3",
   "language": "python",
   "name": "python3"
  },
  "language_info": {
   "codemirror_mode": {
    "name": "ipython",
    "version": 3
   },
   "file_extension": ".py",
   "mimetype": "text/x-python",
   "name": "python",
   "nbconvert_exporter": "python",
   "pygments_lexer": "ipython3",
   "version": "3.7.7"
  }
 },
 "nbformat": 4,
 "nbformat_minor": 4
}
