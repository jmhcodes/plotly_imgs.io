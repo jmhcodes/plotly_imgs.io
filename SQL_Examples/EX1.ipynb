{
 "cells": [
  {
   "cell_type": "markdown",
   "metadata": {},
   "source": [
    "# Summary - SQL Query Examples\n",
    "Each example shows the original tables, goal, then the breaks down the solution in parts. \n",
    "> ### [1. Example:](#EX1) CTE, INNER JOIN, INFORMATION_SCHEMA, sys.tables\n",
    "> - Finds total record, column, and entity counts for all tables in DB\n",
    "\n",
    "> ### [2. Example:](#EX2) CTE, SELECT DISTINCT, INNER JOIN\n",
    ">- Check if set of attributes can be used as a distinct primary key by counting unique rows vs total rows of attributes\n",
    "\n",
    "> ### [3. Example:](#EX3) Subquery, HAVING, INNER JOIN \n",
    ">- Check for duplicate rows on possible candidate key\n",
    "\n",
    "> ### [4. Example:](#EX4) CTE, MAX()/MIN() functions, INNER JOIN, SELF JOIN, UNION Subquery\n",
    "> ### [5. Example:](#EX5) Subquery, Aggregates, RANK() Window Function, Self Join\n",
    "> ### [6. Example:](#EX6) Subquery, CTE, LAG() Window Function, CASE, ROUND(CAST( )), IS NOT NULL\n",
    "- creates deltas for Youtube Stats from personal [database project](https://github.com/jmhcodes/youtube)"
   ]
  },
  {
   "cell_type": "markdown",
   "metadata": {},
   "source": [
    "<a id='EX1'></a>\n",
    "### 1. Example: Find total record, column, and entity counts for all tables in DB. \n",
    "Used: CTE, INNER JOIN, INFORMATION_SCHEMA, sys.tables <br>\n",
    "![ex1](imgs/db_ex1.png)"
   ]
  },
  {
   "cell_type": "markdown",
   "metadata": {},
   "source": [
    "### 1. Solution Part A: Find total ColumnCount by table_name from INFORMATION_SCHEMA.COLUMNS\n",
    "![ex1](imgs/db_1A.png)"
   ]
  },
  {
   "cell_type": "markdown",
   "metadata": {},
   "source": [
    "### 1. Solution Part B: Select from CTE and SUM rows by each table and calc entity count\n",
    "![ex1](imgs/db_1B.png)\n",
    "<br>\n",
    "<br>\n",
    "-------------------------------------------------------------------------------------------------------------------------------------\n",
    "<br>\n",
    "<br>\n",
    "<br>\n",
    "<br>\n",
    "<br>"
   ]
  },
  {
   "cell_type": "markdown",
   "metadata": {},
   "source": [
    "<a id='EX2'></a>\n",
    "### 2. Example: Check if set of attributes can be used as a distinct primary key\n",
    "USED: CTE, SELECT DISTINCT, INNER JOIN <br>\n",
    "![ex1](imgs/db_ex2.png)"
   ]
  },
  {
   "cell_type": "markdown",
   "metadata": {},
   "source": [
    "### 2. Solution Part A: Select and Group By Name, Kind and count the number of rows of this attribute combo\n",
    "![ex1](imgs/db_2A.png)"
   ]
  },
  {
   "cell_type": "markdown",
   "metadata": {},
   "source": [
    "### 2. Solution Part B: Select Distinct repeat part B to compare distinct attribute combo record counts\n",
    "![ex1](imgs/db_2B.png)"
   ]
  },
  {
   "cell_type": "markdown",
   "metadata": {},
   "source": [
    "### 2. Solution Part C: Compare total record combos greater than distinct record combos\n",
    "![ex1](imgs/db_2C.png)\n",
    "\n",
    "<br>\n",
    "<br>\n",
    "-------------------------------------------------------------------------------------------------------------------------------------\n",
    "<br>\n",
    "<br>\n",
    "<br>\n",
    "<br>"
   ]
  },
  {
   "cell_type": "markdown",
   "metadata": {},
   "source": [
    "<a id='EX3'></a>\n",
    "### 3. Example: Check for duplicate rows on possible candidate key\n",
    "USED: Subquery, HAVING, INNER JOIN\n",
    "<br>\n",
    "![ex1](imgs/db_ex2.png)"
   ]
  },
  {
   "cell_type": "markdown",
   "metadata": {},
   "source": [
    "### 3. Solution Part A: Select Candidate key attributes and count() total rows. Filter HAVING count() > 2.\n",
    "![ex1](imgs/db_3A.png)"
   ]
  },
  {
   "cell_type": "markdown",
   "metadata": {},
   "source": [
    "### 3. Solution Part B: Join rows HAVING count()>2 back with original table to view duplicates\n",
    "![ex1](imgs/db_3B.png)\n",
    "<br>\n",
    "<br>\n",
    "-------------------------------------------------------------------------------------------------------------------------------------\n",
    "<br>\n",
    "<br>\n",
    "<br>\n",
    "<br>"
   ]
  },
  {
   "cell_type": "markdown",
   "metadata": {},
   "source": [
    "<a id='EX4'></a>\n",
    "### 4. Example: Write a query that returns the highest and lowest salary from the professors table excluding the professor named 'Wilson'.\n",
    "Used: CTE, MAX()/MIN() functions, INNER JOIN, SELF JOIN, UNION <br>\n",
    "![ex1](imgs/p1_tables.png)"
   ]
  },
  {
   "cell_type": "markdown",
   "metadata": {},
   "source": [
    "### 4. Solution Part A: CTE SELECT Table finds max and min values of professors.salary column\n",
    "![sol1a](imgs/Sol1_A.png)"
   ]
  },
  {
   "cell_type": "markdown",
   "metadata": {},
   "source": [
    "### 4. Solution Part B: Inner join CTE on Professors.Salary = CTE.min_sal to find the lowest paid professor\n",
    "![sol1a](imgs/Sol1_B.png)"
   ]
  },
  {
   "cell_type": "markdown",
   "metadata": {},
   "source": [
    "### 4. Solution Part C:  Inner join CTE on Professors.Salary = CTE.mmax_sal to find the highest paid professor\n",
    "![sol1a](imgs/Sol1_C.png)"
   ]
  },
  {
   "cell_type": "markdown",
   "metadata": {},
   "source": [
    "### 4. Solution Part D:  Union the highest and lowest paid professor records for Final View\n",
    "![sol1a](imgs/Sol1_D.png)\n",
    "<br>\n",
    "<br>\n",
    "-------------------------------------------------------------------------------------------------------------------------------------\n",
    "<br>\n",
    "<br>\n",
    "<br>\n",
    "<br>"
   ]
  },
  {
   "cell_type": "markdown",
   "metadata": {},
   "source": [
    "<a id='EX5'></a>\n",
    "### 5. Example: Count which gender has the highest salary in every department\n",
    "Used: Subquery, Aggregates, Window Function, Self Join <br>\n",
    "![ex1](imgs/p2_tables.png)"
   ]
  },
  {
   "cell_type": "markdown",
   "metadata": {},
   "source": [
    "### 5. Solution Part A: Subquery to create our salary stats and RANK() to see which group has the higher salary. Group by department, gender to isolate the catergories\n",
    "![sol1a](imgs/Sol2_A.png)"
   ]
  },
  {
   "cell_type": "markdown",
   "metadata": {},
   "source": [
    "### 5. Solution Part B: Count the total records WHERE sal_rank = 1 (highest sal) and group by gender to see which is paid most in all 27 departments\n",
    "![sol1a](imgs/Sol2_B.png)\n",
    "<br>\n",
    "<br>\n",
    "-------------------------------------------------------------------------------------------------------------------------------------\n",
    "<br>\n",
    "<br>\n",
    "<br>\n",
    "<br>"
   ]
  },
  {
   "cell_type": "markdown",
   "metadata": {},
   "source": [
    "<a id='EX6'></a>\n",
    "### 6. Example: Find time, view, like, dislike, comment count deltas between ETL uploads\n",
    " - #### This is from my own [database project](https://github.com/jmhcodes/youtube) on [YouTube Statistics, you can find more here](https://jmhcodes.github.io/plotly_imgs.io/data_viz.html). It's in postgres so syntax is a little different than SQL Server\n",
    " \n",
    "Used: Subquery, CTE, LAG() window function, CASE statements, ROUND(CAST()), Clean with IS NOT NULL data \n",
    "<br>\n",
    "![ex1](imgs/EX6_A.png)\n",
    "![ex1](imgs/EX6_B.png)"
   ]
  },
  {
   "attachments": {},
   "cell_type": "markdown",
   "metadata": {},
   "source": [
    "### 6. Solution Part A: CTE using CASE and LAG(title) OVER (ORDER BY title, vid_date, vid_TIME) to generate deltas and ensure data is clean\n",
    "![sol1a](imgs/Sol6_1A.png)\n",
    "![sol1a](imgs/Sol6_B1.png)\n",
    "![sol1a](imgs/Sol6_1C.png)"
   ]
  },
  {
   "cell_type": "markdown",
   "metadata": {},
   "source": [
    "### 6. Solution Part B: Select new stats from CTE and create time_delta_min and view_per_min columns with ROUND(CAST())\n",
    "![sol1a](imgs/Sol6_1A.png)\n",
    "![sol1a](imgs/Sol6_2B.png)\n",
    "![sol1a](imgs/Sol6_2C.png)"
   ]
  },
  {
   "cell_type": "markdown",
   "metadata": {},
   "source": [
    "### 6. Solution Part C: Subquery to select all stats created from Part A and B to create new view\n",
    "![sol1a](imgs/Sol6_C1.png)\n",
    "![sol1a](imgs/Sol6_2B.png)\n",
    "![sol1a](imgs/Sol6_C2.png)\n",
    "![sol1a](imgs/Sol6_C3.png)\n",
    "\n"
   ]
  }
 ],
 "metadata": {
  "kernelspec": {
   "display_name": "Python 3",
   "language": "python",
   "name": "python3"
  },
  "language_info": {
   "codemirror_mode": {
    "name": "ipython",
    "version": 3
   },
   "file_extension": ".py",
   "mimetype": "text/x-python",
   "name": "python",
   "nbconvert_exporter": "python",
   "pygments_lexer": "ipython3",
   "version": "3.7.7"
  }
 },
 "nbformat": 4,
 "nbformat_minor": 4
}
