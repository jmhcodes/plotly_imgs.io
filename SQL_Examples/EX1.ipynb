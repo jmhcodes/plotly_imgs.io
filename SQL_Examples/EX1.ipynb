{
 "cells": [
  {
   "cell_type": "markdown",
   "metadata": {},
   "source": [
    "### 1. Example: Write a query that returns the highest and lowest salary from the professors table excluding the professor named 'Wilson'.\n",
    "Used: CTE, MAX()/MIN() functions, INNER JOIN, SELF JOIN, UNION <br>\n",
    "![ex1](imgs/p1_tables.png)"
   ]
  },
  {
   "cell_type": "markdown",
   "metadata": {},
   "source": [
    "### 1. Solution Part A: CTE SELECT Table finds max and min values of professors.salary column\n",
    "![sol1a](imgs/Sol1_A.png)"
   ]
  },
  {
   "cell_type": "markdown",
   "metadata": {},
   "source": [
    "### 1. Solution Part B: Inner join CTE on Professors.Salary = CTE.min_sal to find the lowest paid professor\n",
    "![sol1a](imgs/Sol1_B.png)"
   ]
  },
  {
   "cell_type": "markdown",
   "metadata": {},
   "source": [
    "### 1. Solution Part C:  Inner join CTE on Professors.Salary = CTE.mmax_sal to find the highest paid professor\n",
    "![sol1a](imgs/Sol1_C.png)"
   ]
  },
  {
   "cell_type": "markdown",
   "metadata": {},
   "source": [
    "### 1. Solution Part D:  Union the highest and lowest paid professor records for Final View\n",
    "![sol1a](imgs/Sol1_D.png)"
   ]
  },
  {
   "cell_type": "markdown",
   "metadata": {},
   "source": [
    "### 2. Example: Count which gender has the highest salary in every department\n",
    "Used: Subquery, Aggregates, Window Function, Self Join <br>\n",
    "![ex1](imgs/p2_tables.png)"
   ]
  },
  {
   "cell_type": "markdown",
   "metadata": {},
   "source": [
    "### 2. Solution Part A: Subquery to create our salary stats and RANK() to see which group has the higher salary. Group by department, gender to isolate the catergories\n",
    "![sol1a](imgs/Sol2_A.png)"
   ]
  },
  {
   "cell_type": "markdown",
   "metadata": {},
   "source": [
    "### 2. Solution Part B: Count the total records WHERE sal_rank = 1 (highest sal) and group by gender to see which is paid most in all 27 departments\n",
    "![sol1a](imgs/Sol2_B.png)"
   ]
  },
  {
   "cell_type": "markdown",
   "metadata": {},
   "source": [
    "### 4. Example:  Write a query that finds students who do not take CS180.\n",
    "USED: SUBQUERY in WHERE, NOT IN, INNER JOIN"
   ]
  },
  {
   "attachments": {},
   "cell_type": "markdown",
   "metadata": {},
   "source": [
    "![ex1](imgs/ex1_tables.png)"
   ]
  },
  {
   "cell_type": "markdown",
   "metadata": {},
   "source": [
    "### 4. Solution: SUBQUERY in WHERE, NOT IN, INNER JOIN"
   ]
  },
  {
   "attachments": {},
   "cell_type": "markdown",
   "metadata": {},
   "source": [
    "![image.png](imgs/Sol1.png)"
   ]
  },
  {
   "cell_type": "markdown",
   "metadata": {},
   "source": [
    "### 2. Example: Write a query to find students who take CS110 or CS107 but not both.\n",
    "USED: SUBQEURY IN WHERE Clause, GROUP BY, HAVING\n",
    "![ex2](imgs/ex1_tables.png)"
   ]
  },
  {
   "attachments": {},
   "cell_type": "markdown",
   "metadata": {},
   "source": [
    "### 2. Solution: SUBQEURY in WHERE Clause, GROUP BY, HAVING\n",
    "![Sol2](imgs/Sol2.png)"
   ]
  },
  {
   "cell_type": "markdown",
   "metadata": {},
   "source": [
    "### 3. Write a query to find students who take CS220 and no other courses.\n",
    "USED: CTE, Multi-Table Select, COUNT() "
   ]
  },
  {
   "cell_type": "markdown",
   "metadata": {},
   "source": [
    "![ex3](imgs/ex1_tables.png)"
   ]
  },
  {
   "attachments": {},
   "cell_type": "markdown",
   "metadata": {},
   "source": [
    "### 3. Solution Part 1: Common Table Expression Result\n",
    "![Sol2](imgs/Sol3_1.png)"
   ]
  },
  {
   "cell_type": "markdown",
   "metadata": {},
   "source": [
    "### 3. Solution Part 2: CTE, Multi-Table Select\n",
    "![Sol2](imgs/Sol3_2.png)"
   ]
  },
  {
   "cell_type": "code",
   "execution_count": null,
   "metadata": {},
   "outputs": [],
   "source": []
  }
 ],
 "metadata": {
  "kernelspec": {
   "display_name": "Python 3",
   "language": "python",
   "name": "python3"
  },
  "language_info": {
   "codemirror_mode": {
    "name": "ipython",
    "version": 3
   },
   "file_extension": ".py",
   "mimetype": "text/x-python",
   "name": "python",
   "nbconvert_exporter": "python",
   "pygments_lexer": "ipython3",
   "version": "3.7.7"
  }
 },
 "nbformat": 4,
 "nbformat_minor": 4
}
